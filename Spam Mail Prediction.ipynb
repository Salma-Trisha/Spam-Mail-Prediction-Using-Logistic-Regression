{
 "cells": [
  {
   "cell_type": "code",
   "execution_count": 1,
   "id": "d62f1de8",
   "metadata": {},
   "outputs": [],
   "source": [
    "import numpy as np\n",
    "import pandas as pd\n",
    "from sklearn.feature_extraction.text import TfidfVectorizer\n",
    "from sklearn.model_selection import train_test_split\n",
    "from sklearn.linear_model import LogisticRegression\n",
    "from sklearn.metrics import accuracy_score"
   ]
  },
  {
   "cell_type": "markdown",
   "id": "1429de53",
   "metadata": {},
   "source": [
    "data collection and pre-processing"
   ]
  },
  {
   "cell_type": "code",
   "execution_count": 2,
   "id": "1119e10c",
   "metadata": {},
   "outputs": [],
   "source": [
    "df = pd.read_csv(\"mail_data.csv\")"
   ]
  },
  {
   "cell_type": "code",
   "execution_count": 3,
   "id": "60b23d4a",
   "metadata": {},
   "outputs": [
    {
     "data": {
      "text/html": [
       "<div>\n",
       "<style scoped>\n",
       "    .dataframe tbody tr th:only-of-type {\n",
       "        vertical-align: middle;\n",
       "    }\n",
       "\n",
       "    .dataframe tbody tr th {\n",
       "        vertical-align: top;\n",
       "    }\n",
       "\n",
       "    .dataframe thead th {\n",
       "        text-align: right;\n",
       "    }\n",
       "</style>\n",
       "<table border=\"1\" class=\"dataframe\">\n",
       "  <thead>\n",
       "    <tr style=\"text-align: right;\">\n",
       "      <th></th>\n",
       "      <th>Category</th>\n",
       "      <th>Message</th>\n",
       "    </tr>\n",
       "  </thead>\n",
       "  <tbody>\n",
       "    <tr>\n",
       "      <th>0</th>\n",
       "      <td>ham</td>\n",
       "      <td>Go until jurong point, crazy.. Available only ...</td>\n",
       "    </tr>\n",
       "    <tr>\n",
       "      <th>1</th>\n",
       "      <td>ham</td>\n",
       "      <td>Ok lar... Joking wif u oni...</td>\n",
       "    </tr>\n",
       "    <tr>\n",
       "      <th>2</th>\n",
       "      <td>spam</td>\n",
       "      <td>Free entry in 2 a wkly comp to win FA Cup fina...</td>\n",
       "    </tr>\n",
       "    <tr>\n",
       "      <th>3</th>\n",
       "      <td>ham</td>\n",
       "      <td>U dun say so early hor... U c already then say...</td>\n",
       "    </tr>\n",
       "    <tr>\n",
       "      <th>4</th>\n",
       "      <td>ham</td>\n",
       "      <td>Nah I don't think he goes to usf, he lives aro...</td>\n",
       "    </tr>\n",
       "  </tbody>\n",
       "</table>\n",
       "</div>"
      ],
      "text/plain": [
       "  Category                                            Message\n",
       "0      ham  Go until jurong point, crazy.. Available only ...\n",
       "1      ham                      Ok lar... Joking wif u oni...\n",
       "2     spam  Free entry in 2 a wkly comp to win FA Cup fina...\n",
       "3      ham  U dun say so early hor... U c already then say...\n",
       "4      ham  Nah I don't think he goes to usf, he lives aro..."
      ]
     },
     "execution_count": 3,
     "metadata": {},
     "output_type": "execute_result"
    }
   ],
   "source": [
    "df.head()"
   ]
  },
  {
   "cell_type": "code",
   "execution_count": 5,
   "id": "65092307",
   "metadata": {},
   "outputs": [
    {
     "name": "stdout",
     "output_type": "stream",
     "text": [
      "     Category                                            Message\n",
      "0         ham  Go until jurong point, crazy.. Available only ...\n",
      "1         ham                      Ok lar... Joking wif u oni...\n",
      "2        spam  Free entry in 2 a wkly comp to win FA Cup fina...\n",
      "3         ham  U dun say so early hor... U c already then say...\n",
      "4         ham  Nah I don't think he goes to usf, he lives aro...\n",
      "...       ...                                                ...\n",
      "5567     spam  This is the 2nd time we have tried 2 contact u...\n",
      "5568      ham               Will ü b going to esplanade fr home?\n",
      "5569      ham  Pity, * was in mood for that. So...any other s...\n",
      "5570      ham  The guy did some bitching but I acted like i'd...\n",
      "5571      ham                         Rofl. Its true to its name\n",
      "\n",
      "[5572 rows x 2 columns]\n"
     ]
    }
   ],
   "source": [
    "print(df)"
   ]
  },
  {
   "cell_type": "code",
   "execution_count": 6,
   "id": "8646885d",
   "metadata": {},
   "outputs": [],
   "source": [
    "mail_data = df.where(pd.notnull(df),'')"
   ]
  },
  {
   "cell_type": "code",
   "execution_count": 8,
   "id": "83103016",
   "metadata": {},
   "outputs": [
    {
     "data": {
      "text/html": [
       "<div>\n",
       "<style scoped>\n",
       "    .dataframe tbody tr th:only-of-type {\n",
       "        vertical-align: middle;\n",
       "    }\n",
       "\n",
       "    .dataframe tbody tr th {\n",
       "        vertical-align: top;\n",
       "    }\n",
       "\n",
       "    .dataframe thead th {\n",
       "        text-align: right;\n",
       "    }\n",
       "</style>\n",
       "<table border=\"1\" class=\"dataframe\">\n",
       "  <thead>\n",
       "    <tr style=\"text-align: right;\">\n",
       "      <th></th>\n",
       "      <th>Category</th>\n",
       "      <th>Message</th>\n",
       "    </tr>\n",
       "  </thead>\n",
       "  <tbody>\n",
       "    <tr>\n",
       "      <th>0</th>\n",
       "      <td>ham</td>\n",
       "      <td>Go until jurong point, crazy.. Available only ...</td>\n",
       "    </tr>\n",
       "    <tr>\n",
       "      <th>1</th>\n",
       "      <td>ham</td>\n",
       "      <td>Ok lar... Joking wif u oni...</td>\n",
       "    </tr>\n",
       "    <tr>\n",
       "      <th>2</th>\n",
       "      <td>spam</td>\n",
       "      <td>Free entry in 2 a wkly comp to win FA Cup fina...</td>\n",
       "    </tr>\n",
       "    <tr>\n",
       "      <th>3</th>\n",
       "      <td>ham</td>\n",
       "      <td>U dun say so early hor... U c already then say...</td>\n",
       "    </tr>\n",
       "    <tr>\n",
       "      <th>4</th>\n",
       "      <td>ham</td>\n",
       "      <td>Nah I don't think he goes to usf, he lives aro...</td>\n",
       "    </tr>\n",
       "  </tbody>\n",
       "</table>\n",
       "</div>"
      ],
      "text/plain": [
       "  Category                                            Message\n",
       "0      ham  Go until jurong point, crazy.. Available only ...\n",
       "1      ham                      Ok lar... Joking wif u oni...\n",
       "2     spam  Free entry in 2 a wkly comp to win FA Cup fina...\n",
       "3      ham  U dun say so early hor... U c already then say...\n",
       "4      ham  Nah I don't think he goes to usf, he lives aro..."
      ]
     },
     "execution_count": 8,
     "metadata": {},
     "output_type": "execute_result"
    }
   ],
   "source": [
    "mail_data.head()"
   ]
  },
  {
   "cell_type": "code",
   "execution_count": 9,
   "id": "ebbf9b44",
   "metadata": {},
   "outputs": [
    {
     "data": {
      "text/plain": [
       "(5572, 2)"
      ]
     },
     "execution_count": 9,
     "metadata": {},
     "output_type": "execute_result"
    }
   ],
   "source": [
    "mail_data.shape"
   ]
  },
  {
   "cell_type": "markdown",
   "id": "1e94ee5e",
   "metadata": {},
   "source": [
    "Label Encoding"
   ]
  },
  {
   "cell_type": "code",
   "execution_count": 10,
   "id": "ff0b4701",
   "metadata": {},
   "outputs": [],
   "source": [
    "#label spam mail as 0 and ham mail as 1"
   ]
  },
  {
   "cell_type": "code",
   "execution_count": 12,
   "id": "4d7d51de",
   "metadata": {},
   "outputs": [],
   "source": [
    "mail_data.loc[mail_data[\"Category\"]==\"spam\", \"Category\"]=0"
   ]
  },
  {
   "cell_type": "code",
   "execution_count": 13,
   "id": "2194b9b3",
   "metadata": {},
   "outputs": [],
   "source": [
    "mail_data.loc[mail_data[\"Category\"]==\"ham\", \"Category\"]=1"
   ]
  },
  {
   "cell_type": "code",
   "execution_count": 14,
   "id": "4a392513",
   "metadata": {},
   "outputs": [],
   "source": [
    "#separating the data as text and labels"
   ]
  },
  {
   "cell_type": "code",
   "execution_count": 15,
   "id": "f48831b7",
   "metadata": {},
   "outputs": [],
   "source": [
    "X = mail_data[\"Message\"]\n",
    "Y = mail_data[\"Category\"]"
   ]
  },
  {
   "cell_type": "code",
   "execution_count": 16,
   "id": "0ace4ff8",
   "metadata": {},
   "outputs": [
    {
     "data": {
      "text/plain": [
       "0       Go until jurong point, crazy.. Available only ...\n",
       "1                           Ok lar... Joking wif u oni...\n",
       "2       Free entry in 2 a wkly comp to win FA Cup fina...\n",
       "3       U dun say so early hor... U c already then say...\n",
       "4       Nah I don't think he goes to usf, he lives aro...\n",
       "                              ...                        \n",
       "5567    This is the 2nd time we have tried 2 contact u...\n",
       "5568                 Will ü b going to esplanade fr home?\n",
       "5569    Pity, * was in mood for that. So...any other s...\n",
       "5570    The guy did some bitching but I acted like i'd...\n",
       "5571                           Rofl. Its true to its name\n",
       "Name: Message, Length: 5572, dtype: object"
      ]
     },
     "execution_count": 16,
     "metadata": {},
     "output_type": "execute_result"
    }
   ],
   "source": [
    "X"
   ]
  },
  {
   "cell_type": "code",
   "execution_count": 17,
   "id": "1828154c",
   "metadata": {},
   "outputs": [
    {
     "data": {
      "text/plain": [
       "0       1\n",
       "1       1\n",
       "2       0\n",
       "3       1\n",
       "4       1\n",
       "       ..\n",
       "5567    0\n",
       "5568    1\n",
       "5569    1\n",
       "5570    1\n",
       "5571    1\n",
       "Name: Category, Length: 5572, dtype: object"
      ]
     },
     "execution_count": 17,
     "metadata": {},
     "output_type": "execute_result"
    }
   ],
   "source": [
    "Y"
   ]
  },
  {
   "cell_type": "markdown",
   "id": "e88bbc83",
   "metadata": {},
   "source": [
    "Train Test Split"
   ]
  },
  {
   "cell_type": "code",
   "execution_count": 18,
   "id": "d5f47029",
   "metadata": {},
   "outputs": [],
   "source": [
    "X_train, X_test, Y_train, Y_test = train_test_split(X,Y,test_size=0.2,stratify=Y,random_state=101)"
   ]
  },
  {
   "cell_type": "code",
   "execution_count": 22,
   "id": "17b368aa",
   "metadata": {},
   "outputs": [
    {
     "name": "stdout",
     "output_type": "stream",
     "text": [
      "(5572,)\n"
     ]
    }
   ],
   "source": [
    "#empty means there is only one column\n",
    "print(X.shape)"
   ]
  },
  {
   "cell_type": "code",
   "execution_count": 23,
   "id": "ebfa5734",
   "metadata": {},
   "outputs": [
    {
     "name": "stdout",
     "output_type": "stream",
     "text": [
      "(4457,)\n"
     ]
    }
   ],
   "source": [
    "print(X_train.shape)"
   ]
  },
  {
   "cell_type": "code",
   "execution_count": 24,
   "id": "88019b1a",
   "metadata": {},
   "outputs": [
    {
     "name": "stdout",
     "output_type": "stream",
     "text": [
      "(1115,)\n"
     ]
    }
   ],
   "source": [
    "print(X_test.shape)"
   ]
  },
  {
   "cell_type": "code",
   "execution_count": 25,
   "id": "5ab212bf",
   "metadata": {},
   "outputs": [],
   "source": [
    "#transform the text data to feature vectors that can be used as input to the logistic regression"
   ]
  },
  {
   "cell_type": "code",
   "execution_count": 33,
   "id": "b46f62b5",
   "metadata": {},
   "outputs": [],
   "source": [
    "feature_extraction = TfidfVectorizer(min_df=1, stop_words = \"english\", lowercase=True)"
   ]
  },
  {
   "cell_type": "code",
   "execution_count": 34,
   "id": "db9a7cf6",
   "metadata": {},
   "outputs": [],
   "source": [
    "X_train_features = feature_extraction.fit_transform(X_train)\n",
    "X_test_features = feature_extraction.transform(X_test)"
   ]
  },
  {
   "cell_type": "code",
   "execution_count": 35,
   "id": "5d51c2b3",
   "metadata": {},
   "outputs": [],
   "source": [
    "#converting Y_train and Y_test values as integer"
   ]
  },
  {
   "cell_type": "code",
   "execution_count": 37,
   "id": "419bea08",
   "metadata": {},
   "outputs": [],
   "source": [
    "Y_train = Y_train.astype(\"int\")\n",
    "Y_test = Y_test.astype(\"int\")"
   ]
  },
  {
   "cell_type": "code",
   "execution_count": 38,
   "id": "afbf1877",
   "metadata": {},
   "outputs": [
    {
     "name": "stdout",
     "output_type": "stream",
     "text": [
      "  (0, 3979)\t0.47050183862734346\n",
      "  (0, 1610)\t0.42733551222611627\n",
      "  (0, 2088)\t0.35085242647911075\n",
      "  (0, 1851)\t0.463502376787769\n",
      "  (0, 3120)\t0.5080162412605933\n",
      "  (1, 4666)\t0.41520525597746594\n",
      "  (1, 3098)\t0.25233007994549134\n",
      "  (1, 7042)\t0.34294037628862284\n",
      "  (1, 3115)\t0.49695415391316355\n",
      "  (1, 6690)\t0.5677634938895512\n",
      "  (1, 2347)\t0.27750172682199364\n",
      "  (2, 4114)\t0.5872980006034407\n",
      "  (2, 1029)\t0.809370779363328\n",
      "  (3, 6221)\t0.5223926957664158\n",
      "  (3, 2598)\t0.49596957292423405\n",
      "  (3, 6478)\t0.3515863071555879\n",
      "  (3, 4233)\t0.4243758232305758\n",
      "  (3, 3780)\t0.24483463114960843\n",
      "  (3, 5474)\t0.34273646845813266\n",
      "  (4, 4919)\t0.4227286416779634\n",
      "  (4, 405)\t0.5991957983172558\n",
      "  (4, 3933)\t0.38347545774430875\n",
      "  (4, 6771)\t0.3141503245682522\n",
      "  (4, 3103)\t0.4653182111904768\n",
      "  (5, 1921)\t0.762495065015084\n",
      "  :\t:\n",
      "  (4452, 5584)\t0.18681715671057833\n",
      "  (4452, 4060)\t0.23099244297130594\n",
      "  (4452, 6771)\t0.18211944204138064\n",
      "  (4453, 5258)\t0.4353137818961515\n",
      "  (4453, 1786)\t0.4353137818961515\n",
      "  (4453, 6726)\t0.3804022950236023\n",
      "  (4453, 4836)\t0.34575700414286253\n",
      "  (4453, 5628)\t0.3804022950236023\n",
      "  (4453, 3818)\t0.38951519852535665\n",
      "  (4453, 5123)\t0.2456054043949294\n",
      "  (4455, 3799)\t0.44063031574709766\n",
      "  (4455, 4108)\t0.38858416172856564\n",
      "  (4455, 4747)\t0.37168591783272087\n",
      "  (4455, 7430)\t0.3588890344669597\n",
      "  (4455, 3330)\t0.2631841734865277\n",
      "  (4455, 3199)\t0.3150226426238682\n",
      "  (4455, 7201)\t0.2283100892098527\n",
      "  (4455, 4019)\t0.22220411710268037\n",
      "  (4455, 5055)\t0.2504765473653718\n",
      "  (4455, 6641)\t0.23484393053804956\n",
      "  (4456, 2194)\t0.558592970684281\n",
      "  (4456, 966)\t0.41420081857271746\n",
      "  (4456, 5802)\t0.396599134599936\n",
      "  (4456, 6652)\t0.396599134599936\n",
      "  (4456, 1915)\t0.449254747181334\n"
     ]
    }
   ],
   "source": [
    "print(X_train_features)"
   ]
  },
  {
   "cell_type": "markdown",
   "id": "cafe1eb8",
   "metadata": {},
   "source": [
    "Training the Model"
   ]
  },
  {
   "cell_type": "code",
   "execution_count": 39,
   "id": "0f4379a4",
   "metadata": {},
   "outputs": [],
   "source": [
    "model = LogisticRegression()"
   ]
  },
  {
   "cell_type": "code",
   "execution_count": 41,
   "id": "6723680c",
   "metadata": {},
   "outputs": [
    {
     "data": {
      "text/plain": [
       "LogisticRegression()"
      ]
     },
     "execution_count": 41,
     "metadata": {},
     "output_type": "execute_result"
    }
   ],
   "source": [
    "model.fit(X_train_features,Y_train)"
   ]
  },
  {
   "cell_type": "markdown",
   "id": "96c60233",
   "metadata": {},
   "source": [
    "Evaluating the trained model"
   ]
  },
  {
   "cell_type": "code",
   "execution_count": 42,
   "id": "882038e1",
   "metadata": {},
   "outputs": [],
   "source": [
    "#Prediction on training data"
   ]
  },
  {
   "cell_type": "code",
   "execution_count": 43,
   "id": "e19b1a5c",
   "metadata": {},
   "outputs": [],
   "source": [
    "prediction_on_training_data = model.predict(X_train_features)"
   ]
  },
  {
   "cell_type": "code",
   "execution_count": 46,
   "id": "b6f092a1",
   "metadata": {},
   "outputs": [],
   "source": [
    "Accuracy_on_training_data = accuracy_score(Y_train,prediction_on_training_data)"
   ]
  },
  {
   "cell_type": "code",
   "execution_count": 47,
   "id": "207c08e9",
   "metadata": {},
   "outputs": [
    {
     "data": {
      "text/plain": [
       "0.9667938074938299"
      ]
     },
     "execution_count": 47,
     "metadata": {},
     "output_type": "execute_result"
    }
   ],
   "source": [
    "Accuracy_on_training_data"
   ]
  },
  {
   "cell_type": "code",
   "execution_count": 48,
   "id": "64262c7d",
   "metadata": {},
   "outputs": [],
   "source": [
    "prediction_on_testing_data = model.predict(X_test_features)"
   ]
  },
  {
   "cell_type": "code",
   "execution_count": 50,
   "id": "2e8e8962",
   "metadata": {},
   "outputs": [],
   "source": [
    "Accuracy_on_testing_data = accuracy_score(Y_test,prediction_on_testing_data)"
   ]
  },
  {
   "cell_type": "code",
   "execution_count": 51,
   "id": "6419bc42",
   "metadata": {},
   "outputs": [
    {
     "data": {
      "text/plain": [
       "0.9650224215246637"
      ]
     },
     "execution_count": 51,
     "metadata": {},
     "output_type": "execute_result"
    }
   ],
   "source": [
    "Accuracy_on_testing_data"
   ]
  },
  {
   "cell_type": "markdown",
   "id": "0d17b8da",
   "metadata": {},
   "source": [
    "Building a Predictive System"
   ]
  },
  {
   "cell_type": "code",
   "execution_count": 52,
   "id": "6fbfdd4f",
   "metadata": {},
   "outputs": [
    {
     "name": "stdout",
     "output_type": "stream",
     "text": [
      "[1]\n",
      "Ham mail\n"
     ]
    }
   ],
   "source": [
    "input_mail = [\"I've been searching for the right words to thank you for this breather. I promise i wont take your help for granted and will fulfil my promise. You have been wonderful and a blessing at all times\"]\n",
    "\n",
    "# convert text to feature vectors\n",
    "input_data_features = feature_extraction.transform(input_mail)\n",
    "\n",
    "# making prediction\n",
    "\n",
    "prediction = model.predict(input_data_features)\n",
    "print(prediction)\n",
    "\n",
    "\n",
    "if (prediction[0]==1):\n",
    "  print('Ham mail')\n",
    "\n",
    "else:\n",
    "  print('Spam mail')"
   ]
  },
  {
   "cell_type": "code",
   "execution_count": null,
   "id": "64fdb8c1",
   "metadata": {},
   "outputs": [],
   "source": []
  }
 ],
 "metadata": {
  "kernelspec": {
   "display_name": "Python 3",
   "language": "python",
   "name": "python3"
  },
  "language_info": {
   "codemirror_mode": {
    "name": "ipython",
    "version": 3
   },
   "file_extension": ".py",
   "mimetype": "text/x-python",
   "name": "python",
   "nbconvert_exporter": "python",
   "pygments_lexer": "ipython3",
   "version": "3.8.8"
  }
 },
 "nbformat": 4,
 "nbformat_minor": 5
}
